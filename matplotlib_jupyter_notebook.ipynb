{
 "cells": [
  {
   "cell_type": "markdown",
   "id": "135dbe77",
   "metadata": {},
   "source": [
    "# step 1 initial exploration of dataset"
   ]
  },
  {
   "cell_type": "code",
   "execution_count": 2,
   "id": "bb3b3235",
   "metadata": {},
   "outputs": [],
   "source": [
    "import pandas as pd\n",
    "import numpy as np\n",
    "import random\n",
    "import matplotlib.pyplot as plt"
   ]
  },
  {
   "cell_type": "code",
   "execution_count": 3,
   "id": "60a9162b",
   "metadata": {},
   "outputs": [
    {
     "data": {
      "text/plain": [
       "(5656458, 6)"
      ]
     },
     "execution_count": 3,
     "metadata": {},
     "output_type": "execute_result"
    }
   ],
   "source": [
    "data=pd.read_csv('C:/Users/samsung/Desktop/Indicators.csv')\n",
    "data.shape"
   ]
  },
  {
   "cell_type": "code",
   "execution_count": 4,
   "id": "cd14e9c5",
   "metadata": {},
   "outputs": [
    {
     "data": {
      "text/html": [
       "<div>\n",
       "<style scoped>\n",
       "    .dataframe tbody tr th:only-of-type {\n",
       "        vertical-align: middle;\n",
       "    }\n",
       "\n",
       "    .dataframe tbody tr th {\n",
       "        vertical-align: top;\n",
       "    }\n",
       "\n",
       "    .dataframe thead th {\n",
       "        text-align: right;\n",
       "    }\n",
       "</style>\n",
       "<table border=\"1\" class=\"dataframe\">\n",
       "  <thead>\n",
       "    <tr style=\"text-align: right;\">\n",
       "      <th></th>\n",
       "      <th>CountryName</th>\n",
       "      <th>CountryCode</th>\n",
       "      <th>IndicatorName</th>\n",
       "      <th>IndicatorCode</th>\n",
       "      <th>Year</th>\n",
       "      <th>Value</th>\n",
       "    </tr>\n",
       "  </thead>\n",
       "  <tbody>\n",
       "    <tr>\n",
       "      <th>0</th>\n",
       "      <td>Arab World</td>\n",
       "      <td>ARB</td>\n",
       "      <td>Adolescent fertility rate (births per 1,000 wo...</td>\n",
       "      <td>SP.ADO.TFRT</td>\n",
       "      <td>1960</td>\n",
       "      <td>1.335609e+02</td>\n",
       "    </tr>\n",
       "    <tr>\n",
       "      <th>1</th>\n",
       "      <td>Arab World</td>\n",
       "      <td>ARB</td>\n",
       "      <td>Age dependency ratio (% of working-age populat...</td>\n",
       "      <td>SP.POP.DPND</td>\n",
       "      <td>1960</td>\n",
       "      <td>8.779760e+01</td>\n",
       "    </tr>\n",
       "    <tr>\n",
       "      <th>2</th>\n",
       "      <td>Arab World</td>\n",
       "      <td>ARB</td>\n",
       "      <td>Age dependency ratio, old (% of working-age po...</td>\n",
       "      <td>SP.POP.DPND.OL</td>\n",
       "      <td>1960</td>\n",
       "      <td>6.634579e+00</td>\n",
       "    </tr>\n",
       "    <tr>\n",
       "      <th>3</th>\n",
       "      <td>Arab World</td>\n",
       "      <td>ARB</td>\n",
       "      <td>Age dependency ratio, young (% of working-age ...</td>\n",
       "      <td>SP.POP.DPND.YG</td>\n",
       "      <td>1960</td>\n",
       "      <td>8.102333e+01</td>\n",
       "    </tr>\n",
       "    <tr>\n",
       "      <th>4</th>\n",
       "      <td>Arab World</td>\n",
       "      <td>ARB</td>\n",
       "      <td>Arms exports (SIPRI trend indicator values)</td>\n",
       "      <td>MS.MIL.XPRT.KD</td>\n",
       "      <td>1960</td>\n",
       "      <td>3.000000e+06</td>\n",
       "    </tr>\n",
       "    <tr>\n",
       "      <th>5</th>\n",
       "      <td>Arab World</td>\n",
       "      <td>ARB</td>\n",
       "      <td>Arms imports (SIPRI trend indicator values)</td>\n",
       "      <td>MS.MIL.MPRT.KD</td>\n",
       "      <td>1960</td>\n",
       "      <td>5.380000e+08</td>\n",
       "    </tr>\n",
       "    <tr>\n",
       "      <th>6</th>\n",
       "      <td>Arab World</td>\n",
       "      <td>ARB</td>\n",
       "      <td>Birth rate, crude (per 1,000 people)</td>\n",
       "      <td>SP.DYN.CBRT.IN</td>\n",
       "      <td>1960</td>\n",
       "      <td>4.769789e+01</td>\n",
       "    </tr>\n",
       "    <tr>\n",
       "      <th>7</th>\n",
       "      <td>Arab World</td>\n",
       "      <td>ARB</td>\n",
       "      <td>CO2 emissions (kt)</td>\n",
       "      <td>EN.ATM.CO2E.KT</td>\n",
       "      <td>1960</td>\n",
       "      <td>5.956399e+04</td>\n",
       "    </tr>\n",
       "    <tr>\n",
       "      <th>8</th>\n",
       "      <td>Arab World</td>\n",
       "      <td>ARB</td>\n",
       "      <td>CO2 emissions (metric tons per capita)</td>\n",
       "      <td>EN.ATM.CO2E.PC</td>\n",
       "      <td>1960</td>\n",
       "      <td>6.439635e-01</td>\n",
       "    </tr>\n",
       "    <tr>\n",
       "      <th>9</th>\n",
       "      <td>Arab World</td>\n",
       "      <td>ARB</td>\n",
       "      <td>CO2 emissions from gaseous fuel consumption (%...</td>\n",
       "      <td>EN.ATM.CO2E.GF.ZS</td>\n",
       "      <td>1960</td>\n",
       "      <td>5.041292e+00</td>\n",
       "    </tr>\n",
       "  </tbody>\n",
       "</table>\n",
       "</div>"
      ],
      "text/plain": [
       "  CountryName CountryCode                                      IndicatorName  \\\n",
       "0  Arab World         ARB  Adolescent fertility rate (births per 1,000 wo...   \n",
       "1  Arab World         ARB  Age dependency ratio (% of working-age populat...   \n",
       "2  Arab World         ARB  Age dependency ratio, old (% of working-age po...   \n",
       "3  Arab World         ARB  Age dependency ratio, young (% of working-age ...   \n",
       "4  Arab World         ARB        Arms exports (SIPRI trend indicator values)   \n",
       "5  Arab World         ARB        Arms imports (SIPRI trend indicator values)   \n",
       "6  Arab World         ARB               Birth rate, crude (per 1,000 people)   \n",
       "7  Arab World         ARB                                 CO2 emissions (kt)   \n",
       "8  Arab World         ARB             CO2 emissions (metric tons per capita)   \n",
       "9  Arab World         ARB  CO2 emissions from gaseous fuel consumption (%...   \n",
       "\n",
       "       IndicatorCode  Year         Value  \n",
       "0        SP.ADO.TFRT  1960  1.335609e+02  \n",
       "1        SP.POP.DPND  1960  8.779760e+01  \n",
       "2     SP.POP.DPND.OL  1960  6.634579e+00  \n",
       "3     SP.POP.DPND.YG  1960  8.102333e+01  \n",
       "4     MS.MIL.XPRT.KD  1960  3.000000e+06  \n",
       "5     MS.MIL.MPRT.KD  1960  5.380000e+08  \n",
       "6     SP.DYN.CBRT.IN  1960  4.769789e+01  \n",
       "7     EN.ATM.CO2E.KT  1960  5.956399e+04  \n",
       "8     EN.ATM.CO2E.PC  1960  6.439635e-01  \n",
       "9  EN.ATM.CO2E.GF.ZS  1960  5.041292e+00  "
      ]
     },
     "execution_count": 4,
     "metadata": {},
     "output_type": "execute_result"
    }
   ],
   "source": [
    "data.head(10)"
   ]
  },
  {
   "cell_type": "markdown",
   "id": "2b522cd2",
   "metadata": {},
   "source": [
    "# How many UNIQUE country names are there?"
   ]
  },
  {
   "cell_type": "code",
   "execution_count": 5,
   "id": "ad649313",
   "metadata": {},
   "outputs": [
    {
     "data": {
      "text/plain": [
       "247"
      ]
     },
     "execution_count": 5,
     "metadata": {},
     "output_type": "execute_result"
    }
   ],
   "source": [
    "countries=data['CountryName'].unique() #tolist = converts data into list\n",
    "len(countries)"
   ]
  },
  {
   "cell_type": "code",
   "execution_count": 6,
   "id": "be06f17c",
   "metadata": {},
   "outputs": [
    {
     "data": {
      "text/plain": [
       "247"
      ]
     },
     "execution_count": 6,
     "metadata": {},
     "output_type": "execute_result"
    }
   ],
   "source": [
    "# How many unique country codes are there? (should be the same)\n",
    "countryCodes=data['CountryCode'].unique()\n",
    "len(countryCodes)"
   ]
  },
  {
   "cell_type": "markdown",
   "id": "f82af2cf",
   "metadata": {},
   "source": [
    "# Are ther many indicators or few?"
   ]
  },
  {
   "cell_type": "code",
   "execution_count": 7,
   "id": "64d2bc8d",
   "metadata": {},
   "outputs": [
    {
     "data": {
      "text/plain": [
       "1344"
      ]
     },
     "execution_count": 7,
     "metadata": {},
     "output_type": "execute_result"
    }
   ],
   "source": [
    "# How many unique indicators are there\n",
    "indicators=data['IndicatorName'].unique().tolist()\n",
    "len(indicators)"
   ]
  },
  {
   "cell_type": "markdown",
   "id": "e5433cc4",
   "metadata": {},
   "source": [
    "# How many years of data do we have?"
   ]
  },
  {
   "cell_type": "code",
   "execution_count": 8,
   "id": "010416b5",
   "metadata": {},
   "outputs": [
    {
     "data": {
      "text/plain": [
       "56"
      ]
     },
     "execution_count": 8,
     "metadata": {},
     "output_type": "execute_result"
    }
   ],
   "source": [
    "years=data['Year'].unique().tolist()\n",
    "len(years)"
   ]
  },
  {
   "cell_type": "markdown",
   "id": "eb88c1ca",
   "metadata": {},
   "source": [
    "# what's the range of years?"
   ]
  },
  {
   "cell_type": "code",
   "execution_count": 9,
   "id": "fdb9b4e4",
   "metadata": {},
   "outputs": [
    {
     "name": "stdout",
     "output_type": "stream",
     "text": [
      "1960to2015\n"
     ]
    }
   ],
   "source": [
    "print(str(min(years))+ 'to' +str(max(years)))"
   ]
  },
  {
   "cell_type": "markdown",
   "id": "68ab1a6c",
   "metadata": {},
   "source": [
    "#Matplotlib: Basic Plotting Part1"
   ]
  },
  {
   "cell_type": "markdown",
   "id": "89d1d666",
   "metadata": {},
   "source": [
    "# lets pick country and an indicator to explore CO2 emission per capita and USA"
   ]
  },
  {
   "cell_type": "code",
   "execution_count": 10,
   "id": "bb1fd52c",
   "metadata": {},
   "outputs": [],
   "source": [
    "# select CO2 emissions for the USA\n",
    "hist_indicator='CO2 emissions \\(metric'\n",
    "hist_country='USA'\n",
    "mask1=data['IndicatorName'].str.contains(hist_indicator)\n",
    "mask2=data['CountryCode'].str.contains(hist_country)\n",
    "#stage is just those indicators matching the USA for country code and co2 emission over time\n",
    "stage=data[mask1 & mask2]"
   ]
  },
  {
   "cell_type": "code",
   "execution_count": 11,
   "id": "bd2b2cb2",
   "metadata": {},
   "outputs": [
    {
     "data": {
      "text/html": [
       "<div>\n",
       "<style scoped>\n",
       "    .dataframe tbody tr th:only-of-type {\n",
       "        vertical-align: middle;\n",
       "    }\n",
       "\n",
       "    .dataframe tbody tr th {\n",
       "        vertical-align: top;\n",
       "    }\n",
       "\n",
       "    .dataframe thead th {\n",
       "        text-align: right;\n",
       "    }\n",
       "</style>\n",
       "<table border=\"1\" class=\"dataframe\">\n",
       "  <thead>\n",
       "    <tr style=\"text-align: right;\">\n",
       "      <th></th>\n",
       "      <th>CountryName</th>\n",
       "      <th>CountryCode</th>\n",
       "      <th>IndicatorName</th>\n",
       "      <th>IndicatorCode</th>\n",
       "      <th>Year</th>\n",
       "      <th>Value</th>\n",
       "    </tr>\n",
       "  </thead>\n",
       "  <tbody>\n",
       "    <tr>\n",
       "      <th>22232</th>\n",
       "      <td>United States</td>\n",
       "      <td>USA</td>\n",
       "      <td>CO2 emissions (metric tons per capita)</td>\n",
       "      <td>EN.ATM.CO2E.PC</td>\n",
       "      <td>1960</td>\n",
       "      <td>15.999779</td>\n",
       "    </tr>\n",
       "    <tr>\n",
       "      <th>48708</th>\n",
       "      <td>United States</td>\n",
       "      <td>USA</td>\n",
       "      <td>CO2 emissions (metric tons per capita)</td>\n",
       "      <td>EN.ATM.CO2E.PC</td>\n",
       "      <td>1961</td>\n",
       "      <td>15.681256</td>\n",
       "    </tr>\n",
       "    <tr>\n",
       "      <th>77087</th>\n",
       "      <td>United States</td>\n",
       "      <td>USA</td>\n",
       "      <td>CO2 emissions (metric tons per capita)</td>\n",
       "      <td>EN.ATM.CO2E.PC</td>\n",
       "      <td>1962</td>\n",
       "      <td>16.013937</td>\n",
       "    </tr>\n",
       "    <tr>\n",
       "      <th>105704</th>\n",
       "      <td>United States</td>\n",
       "      <td>USA</td>\n",
       "      <td>CO2 emissions (metric tons per capita)</td>\n",
       "      <td>EN.ATM.CO2E.PC</td>\n",
       "      <td>1963</td>\n",
       "      <td>16.482762</td>\n",
       "    </tr>\n",
       "    <tr>\n",
       "      <th>134742</th>\n",
       "      <td>United States</td>\n",
       "      <td>USA</td>\n",
       "      <td>CO2 emissions (metric tons per capita)</td>\n",
       "      <td>EN.ATM.CO2E.PC</td>\n",
       "      <td>1964</td>\n",
       "      <td>16.968119</td>\n",
       "    </tr>\n",
       "  </tbody>\n",
       "</table>\n",
       "</div>"
      ],
      "text/plain": [
       "          CountryName CountryCode                           IndicatorName  \\\n",
       "22232   United States         USA  CO2 emissions (metric tons per capita)   \n",
       "48708   United States         USA  CO2 emissions (metric tons per capita)   \n",
       "77087   United States         USA  CO2 emissions (metric tons per capita)   \n",
       "105704  United States         USA  CO2 emissions (metric tons per capita)   \n",
       "134742  United States         USA  CO2 emissions (metric tons per capita)   \n",
       "\n",
       "         IndicatorCode  Year      Value  \n",
       "22232   EN.ATM.CO2E.PC  1960  15.999779  \n",
       "48708   EN.ATM.CO2E.PC  1961  15.681256  \n",
       "77087   EN.ATM.CO2E.PC  1962  16.013937  \n",
       "105704  EN.ATM.CO2E.PC  1963  16.482762  \n",
       "134742  EN.ATM.CO2E.PC  1964  16.968119  "
      ]
     },
     "execution_count": 11,
     "metadata": {},
     "output_type": "execute_result"
    }
   ],
   "source": [
    "stage.head()"
   ]
  },
  {
   "cell_type": "markdown",
   "id": "c138ee70",
   "metadata": {},
   "source": [
    "# let's see how emissions have changed over time using matplotlib"
   ]
  },
  {
   "cell_type": "code",
   "execution_count": 12,
   "id": "851cceab",
   "metadata": {},
   "outputs": [
    {
     "data": {
      "image/png": "[encoded data removed]",
      "text/plain": [
       "<Figure size 432x288 with 1 Axes>"
      ]
     },
     "metadata": {
      "needs_background": "light"
     },
     "output_type": "display_data"
    }
   ],
   "source": [
    "# get the years\n",
    "years=stage['Year'].values\n",
    "# get the values\n",
    "co2=stage['Value'].values\n",
    "#create\n",
    "plt.bar(years,co2)\n",
    "plt.show()"
   ]
  },
  {
   "cell_type": "markdown",
   "id": "c656148a",
   "metadata": {},
   "source": [
    "# switch to a line plot"
   ]
  },
  {
   "cell_type": "code",
   "execution_count": 13,
   "id": "b159a3d8",
   "metadata": {},
   "outputs": [
    {
     "data": {
      "image/png": "[encoded data removed]",
      "text/plain": [
       "<Figure size 432x288 with 1 Axes>"
      ]
     },
     "metadata": {
      "needs_background": "light"
     },
     "output_type": "display_data"
    }
   ],
   "source": [
    "plt.plot(stage['Year'].values,stage['Value'].values)\n",
    "# label the axes\n",
    "plt.xlabel('Year')\n",
    "plt.ylabel(stage['IndicatorName'].iloc[0])\n",
    "#label the figure\n",
    "plt.title('CO2 Emissions in USA')\n",
    "#to make more honest, start the y axis at 0\n",
    "plt.axis([1959, 2011, 0, 25])\n",
    "plt.show()"
   ]
  },
  {
   "cell_type": "markdown",
   "id": "d22b9400",
   "metadata": {},
   "source": [
    "# using Histograms to explore the distribution of value"
   ]
  },
  {
   "cell_type": "code",
   "execution_count": 14,
   "id": "ee08224f",
   "metadata": {},
   "outputs": [],
   "source": [
    "#lower=stage['Value'].mean()-stage['Value'].std()\n",
    "#upper=stage['Value'].mean()+stage['Value'].std()\n",
    "#hist_data=[x for x in stage[:10000]['Value'] if x>lower and x<upper]\n",
    "# otherwise lets look at all the data\n",
    "hist_data=stage['Value'].values"
   ]
  },
  {
   "cell_type": "code",
   "execution_count": 15,
   "id": "e63b42d4",
   "metadata": {},
   "outputs": [
    {
     "name": "stdout",
     "output_type": "stream",
     "text": [
      "52\n"
     ]
    }
   ],
   "source": [
    "print(len(hist_data))"
   ]
  },
  {
   "cell_type": "code",
   "execution_count": 16,
   "id": "7b6be982",
   "metadata": {},
   "outputs": [
    {
     "data": {
      "image/png": "[encoded data removed]",
      "text/plain": [
       "<Figure size 432x288 with 1 Axes>"
      ]
     },
     "metadata": {
      "needs_background": "light"
     },
     "output_type": "display_data"
    }
   ],
   "source": [
    "# the histogram of the data\n",
    "plt.hist(hist_data, 10, density=False, facecolor='violet')\n",
    "#density= false means our width of bar will be same\n",
    "plt.xlabel(stage['IndicatorName'].iloc[0])\n",
    "plt.ylabel('# of Years')\n",
    "plt.title('Histogram Example')\n",
    "plt.grid(True)\n",
    "plt.show()"
   ]
  },
  {
   "cell_type": "markdown",
   "id": "66b188ce",
   "metadata": {},
   "source": [
    "# But how do the USA's numbers relate to those of other countries?"
   ]
  },
  {
   "cell_type": "code",
   "execution_count": 17,
   "id": "36ba0a2c",
   "metadata": {},
   "outputs": [
    {
     "data": {
      "text/html": [
       "<div>\n",
       "<style scoped>\n",
       "    .dataframe tbody tr th:only-of-type {\n",
       "        vertical-align: middle;\n",
       "    }\n",
       "\n",
       "    .dataframe tbody tr th {\n",
       "        vertical-align: top;\n",
       "    }\n",
       "\n",
       "    .dataframe thead th {\n",
       "        text-align: right;\n",
       "    }\n",
       "</style>\n",
       "<table border=\"1\" class=\"dataframe\">\n",
       "  <thead>\n",
       "    <tr style=\"text-align: right;\">\n",
       "      <th></th>\n",
       "      <th>CountryName</th>\n",
       "      <th>CountryCode</th>\n",
       "      <th>IndicatorName</th>\n",
       "      <th>IndicatorCode</th>\n",
       "      <th>Year</th>\n",
       "      <th>Value</th>\n",
       "    </tr>\n",
       "  </thead>\n",
       "  <tbody>\n",
       "    <tr>\n",
       "      <th>5026275</th>\n",
       "      <td>Arab World</td>\n",
       "      <td>ARB</td>\n",
       "      <td>CO2 emissions (metric tons per capita)</td>\n",
       "      <td>EN.ATM.CO2E.PC</td>\n",
       "      <td>2011</td>\n",
       "      <td>4.724500</td>\n",
       "    </tr>\n",
       "    <tr>\n",
       "      <th>5026788</th>\n",
       "      <td>Caribbean small states</td>\n",
       "      <td>CSS</td>\n",
       "      <td>CO2 emissions (metric tons per capita)</td>\n",
       "      <td>EN.ATM.CO2E.PC</td>\n",
       "      <td>2011</td>\n",
       "      <td>9.692960</td>\n",
       "    </tr>\n",
       "    <tr>\n",
       "      <th>5027295</th>\n",
       "      <td>Central Europe and the Baltics</td>\n",
       "      <td>CEB</td>\n",
       "      <td>CO2 emissions (metric tons per capita)</td>\n",
       "      <td>EN.ATM.CO2E.PC</td>\n",
       "      <td>2011</td>\n",
       "      <td>6.911131</td>\n",
       "    </tr>\n",
       "    <tr>\n",
       "      <th>5027870</th>\n",
       "      <td>East Asia &amp; Pacific (all income levels)</td>\n",
       "      <td>EAS</td>\n",
       "      <td>CO2 emissions (metric tons per capita)</td>\n",
       "      <td>EN.ATM.CO2E.PC</td>\n",
       "      <td>2011</td>\n",
       "      <td>5.859548</td>\n",
       "    </tr>\n",
       "    <tr>\n",
       "      <th>5028456</th>\n",
       "      <td>East Asia &amp; Pacific (developing only)</td>\n",
       "      <td>EAP</td>\n",
       "      <td>CO2 emissions (metric tons per capita)</td>\n",
       "      <td>EN.ATM.CO2E.PC</td>\n",
       "      <td>2011</td>\n",
       "      <td>5.302499</td>\n",
       "    </tr>\n",
       "  </tbody>\n",
       "</table>\n",
       "</div>"
      ],
      "text/plain": [
       "                                     CountryName CountryCode  \\\n",
       "5026275                               Arab World         ARB   \n",
       "5026788                   Caribbean small states         CSS   \n",
       "5027295           Central Europe and the Baltics         CEB   \n",
       "5027870  East Asia & Pacific (all income levels)         EAS   \n",
       "5028456    East Asia & Pacific (developing only)         EAP   \n",
       "\n",
       "                                  IndicatorName   IndicatorCode  Year  \\\n",
       "5026275  CO2 emissions (metric tons per capita)  EN.ATM.CO2E.PC  2011   \n",
       "5026788  CO2 emissions (metric tons per capita)  EN.ATM.CO2E.PC  2011   \n",
       "5027295  CO2 emissions (metric tons per capita)  EN.ATM.CO2E.PC  2011   \n",
       "5027870  CO2 emissions (metric tons per capita)  EN.ATM.CO2E.PC  2011   \n",
       "5028456  CO2 emissions (metric tons per capita)  EN.ATM.CO2E.PC  2011   \n",
       "\n",
       "            Value  \n",
       "5026275  4.724500  \n",
       "5026788  9.692960  \n",
       "5027295  6.911131  \n",
       "5027870  5.859548  \n",
       "5028456  5.302499  "
      ]
     },
     "execution_count": 17,
     "metadata": {},
     "output_type": "execute_result"
    }
   ],
   "source": [
    "# select CO2 emissions for all countries in 2011\n",
    "hist_indicator = 'CO2 emissions \\(metric'\n",
    "hist_year = 2011\n",
    "\n",
    "mask1 = data['IndicatorName'].str.contains(hist_indicator) \n",
    "mask2 = data['Year'].isin([hist_year])\n",
    "\n",
    "# apply our mask\n",
    "co2_2011 = data[mask1 & mask2]\n",
    "co2_2011.head()"
   ]
  },
  {
   "cell_type": "markdown",
   "id": "f79ab1f3",
   "metadata": {},
   "source": [
    "For how many countries do we have CO2 per capita emissions data in 2011"
   ]
  },
  {
   "cell_type": "code",
   "execution_count": 18,
   "id": "22b31d4e",
   "metadata": {},
   "outputs": [
    {
     "name": "stdout",
     "output_type": "stream",
     "text": [
      "232\n"
     ]
    }
   ],
   "source": [
    "print(len(co2_2011))"
   ]
  },
  {
   "cell_type": "code",
   "execution_count": 19,
   "id": "46715366",
   "metadata": {},
   "outputs": [
    {
     "data": {
      "image/png": "[encoded data removed]",
      "text/plain": [
       "<Figure size 432x288 with 1 Axes>"
      ]
     },
     "metadata": {
      "needs_background": "light"
     },
     "output_type": "display_data"
    }
   ],
   "source": [
    "# let's plot a histogram of the emmissions per capita by country\n",
    "\n",
    "# subplots returns a touple with the figure, axis attributes.\n",
    "fig, ax=plt.subplots()\n",
    "\n",
    "ax.annotate('USA',xy=(18,5),xycoords='data',xytext=(18,30),textcoords='data',arrowprops=dict(arrowstyle='->',connectionstyle='arc3'))\n",
    "plt.hist(co2_2011['Value'],10,density=False,facecolor='green')\n",
    "#density: width of your bins false will have all same size of bins.\n",
    "plt.xlabel(stage['IndicatorName'].iloc[0])\n",
    "plt.ylabel('# of Countries')\n",
    "plt.title('Histogram of CO2 Emission Per Capita')\n",
    "#plt.axis([10, 22, 0, 14])\n",
    "plt.grid(True)\n",
    "plt.show()"
   ]
  },
  {
   "cell_type": "markdown",
   "id": "03880ae9",
   "metadata": {},
   "source": [
    "So the USA, at ~18 CO2 emissions (metric tons per capital) is quite high among all countries.\n",
    "\n",
    "An interesting next step, which we'll save for you, would be to explore how this relates to other industrialized nations and to look at the outliers with those values in the 40s!"
   ]
  },
  {
   "cell_type": "markdown",
   "id": "a8e1f537",
   "metadata": {},
   "source": [
    "#Matplotlib: Basic Plotting, Part 2"
   ]
  },
  {
   "cell_type": "markdown",
   "id": "eea7bb6c",
   "metadata": {},
   "source": [
    "Relationship between GDP and CO2 Emissions in USA"
   ]
  },
  {
   "cell_type": "code",
   "execution_count": 20,
   "id": "ef8424ce",
   "metadata": {},
   "outputs": [],
   "source": [
    "# select GDP Per capita emissions for the United States\n",
    "hist_indicator='GDP per capita \\(constant 2005'\n",
    "hist_country='USA'\n",
    "mask1 = data['IndicatorName'].str.contains(hist_indicator) \n",
    "mask2 = data['CountryCode'].str.contains(hist_country)\n",
    "# stage is just those indicators matching the USA for country code and CO2 emissions over time.\n",
    "gdp_stage = data[mask1 & mask2]\n",
    "\n",
    "#plot gdp_stage vs stage"
   ]
  },
  {
   "cell_type": "code",
   "execution_count": 21,
   "id": "e69f41e0",
   "metadata": {},
   "outputs": [
    {
     "data": {
      "text/html": [
       "<div>\n",
       "<style scoped>\n",
       "    .dataframe tbody tr th:only-of-type {\n",
       "        vertical-align: middle;\n",
       "    }\n",
       "\n",
       "    .dataframe tbody tr th {\n",
       "        vertical-align: top;\n",
       "    }\n",
       "\n",
       "    .dataframe thead th {\n",
       "        text-align: right;\n",
       "    }\n",
       "</style>\n",
       "<table border=\"1\" class=\"dataframe\">\n",
       "  <thead>\n",
       "    <tr style=\"text-align: right;\">\n",
       "      <th></th>\n",
       "      <th>CountryName</th>\n",
       "      <th>CountryCode</th>\n",
       "      <th>IndicatorName</th>\n",
       "      <th>IndicatorCode</th>\n",
       "      <th>Year</th>\n",
       "      <th>Value</th>\n",
       "    </tr>\n",
       "  </thead>\n",
       "  <tbody>\n",
       "    <tr>\n",
       "      <th>22282</th>\n",
       "      <td>United States</td>\n",
       "      <td>USA</td>\n",
       "      <td>GDP per capita (constant 2005 US$)</td>\n",
       "      <td>NY.GDP.PCAP.KD</td>\n",
       "      <td>1960</td>\n",
       "      <td>15482.707760</td>\n",
       "    </tr>\n",
       "    <tr>\n",
       "      <th>48759</th>\n",
       "      <td>United States</td>\n",
       "      <td>USA</td>\n",
       "      <td>GDP per capita (constant 2005 US$)</td>\n",
       "      <td>NY.GDP.PCAP.KD</td>\n",
       "      <td>1961</td>\n",
       "      <td>15578.409657</td>\n",
       "    </tr>\n",
       "  </tbody>\n",
       "</table>\n",
       "</div>"
      ],
      "text/plain": [
       "         CountryName CountryCode                       IndicatorName  \\\n",
       "22282  United States         USA  GDP per capita (constant 2005 US$)   \n",
       "48759  United States         USA  GDP per capita (constant 2005 US$)   \n",
       "\n",
       "        IndicatorCode  Year         Value  \n",
       "22282  NY.GDP.PCAP.KD  1960  15482.707760  \n",
       "48759  NY.GDP.PCAP.KD  1961  15578.409657  "
      ]
     },
     "execution_count": 21,
     "metadata": {},
     "output_type": "execute_result"
    }
   ],
   "source": [
    "gdp_stage.head(2)"
   ]
  },
  {
   "cell_type": "code",
   "execution_count": 22,
   "id": "6a832aa4",
   "metadata": {},
   "outputs": [
    {
     "data": {
      "text/html": [
       "<div>\n",
       "<style scoped>\n",
       "    .dataframe tbody tr th:only-of-type {\n",
       "        vertical-align: middle;\n",
       "    }\n",
       "\n",
       "    .dataframe tbody tr th {\n",
       "        vertical-align: top;\n",
       "    }\n",
       "\n",
       "    .dataframe thead th {\n",
       "        text-align: right;\n",
       "    }\n",
       "</style>\n",
       "<table border=\"1\" class=\"dataframe\">\n",
       "  <thead>\n",
       "    <tr style=\"text-align: right;\">\n",
       "      <th></th>\n",
       "      <th>CountryName</th>\n",
       "      <th>CountryCode</th>\n",
       "      <th>IndicatorName</th>\n",
       "      <th>IndicatorCode</th>\n",
       "      <th>Year</th>\n",
       "      <th>Value</th>\n",
       "    </tr>\n",
       "  </thead>\n",
       "  <tbody>\n",
       "    <tr>\n",
       "      <th>22232</th>\n",
       "      <td>United States</td>\n",
       "      <td>USA</td>\n",
       "      <td>CO2 emissions (metric tons per capita)</td>\n",
       "      <td>EN.ATM.CO2E.PC</td>\n",
       "      <td>1960</td>\n",
       "      <td>15.999779</td>\n",
       "    </tr>\n",
       "    <tr>\n",
       "      <th>48708</th>\n",
       "      <td>United States</td>\n",
       "      <td>USA</td>\n",
       "      <td>CO2 emissions (metric tons per capita)</td>\n",
       "      <td>EN.ATM.CO2E.PC</td>\n",
       "      <td>1961</td>\n",
       "      <td>15.681256</td>\n",
       "    </tr>\n",
       "  </tbody>\n",
       "</table>\n",
       "</div>"
      ],
      "text/plain": [
       "         CountryName CountryCode                           IndicatorName  \\\n",
       "22232  United States         USA  CO2 emissions (metric tons per capita)   \n",
       "48708  United States         USA  CO2 emissions (metric tons per capita)   \n",
       "\n",
       "        IndicatorCode  Year      Value  \n",
       "22232  EN.ATM.CO2E.PC  1960  15.999779  \n",
       "48708  EN.ATM.CO2E.PC  1961  15.681256  "
      ]
     },
     "execution_count": 22,
     "metadata": {},
     "output_type": "execute_result"
    }
   ],
   "source": [
    "stage.head(2)"
   ]
  },
  {
   "cell_type": "code",
   "execution_count": 23,
   "id": "78057d3d",
   "metadata": {},
   "outputs": [
    {
     "data": {
      "image/png": "[encoded data removed]",
      "text/plain": [
       "<Figure size 432x288 with 1 Axes>"
      ]
     },
     "metadata": {
      "needs_background": "light"
     },
     "output_type": "display_data"
    }
   ],
   "source": [
    "# switch to a line plot\n",
    "plt.plot(gdp_stage['Year'].values,gdp_stage['Value'].values)\n",
    "# Label the axes\n",
    "plt.xlabel('Year')\n",
    "plt.ylabel(gdp_stage['IndicatorName'].iloc[0])\n",
    "#label the figure\n",
    "plt.title('GDP Per Capita USA')\n",
    "# to make more honest, start they y axis at 0\n",
    "#plt.axis([1959, 2011,0,25])\n",
    "plt.show()"
   ]
  },
  {
   "cell_type": "markdown",
   "id": "14e9302c",
   "metadata": {},
   "source": [
    "So although we've seen a decline in the CO2 emissions per capita, it does not seem to translate to a decline in GDP per capita"
   ]
  },
  {
   "cell_type": "markdown",
   "id": "e99fd344",
   "metadata": {},
   "source": [
    "#ScatterPlot for comparing GDP against CO2 emissions (per capita)"
   ]
  },
  {
   "cell_type": "code",
   "execution_count": 24,
   "id": "a7ddafcc",
   "metadata": {},
   "outputs": [
    {
     "name": "stdout",
     "output_type": "stream",
     "text": [
      "GDP Min Year=  1960 max: 2014\n",
      "CO2 Min Year=  1960 max 2011\n"
     ]
    }
   ],
   "source": [
    "print('GDP Min Year= ',gdp_stage['Year'].min(),'max:',gdp_stage['Year'].max())\n",
    "print('CO2 Min Year= ',stage['Year'].min(),'max',stage['Year'].max())"
   ]
  },
  {
   "cell_type": "markdown",
   "id": "bf47d1b8",
   "metadata": {},
   "source": [
    "We have 3 extra years of GDP data, so let's trim those off so the scatterplot has equal length arrays to compare (this is actually required by scatterplot)"
   ]
  },
  {
   "cell_type": "code",
   "execution_count": null,
   "id": "7a1cfdea",
   "metadata": {},
   "outputs": [],
   "source": [
    "%matplotlib inline\n",
    "import maplotlib.pyplot as plt\n"
   ]
  }
 ],
 "metadata": {
  "kernelspec": {
   "display_name": "Python 3 (ipykernel)",
   "language": "python",
   "name": "python3"
  },
  "language_info": {
   "codemirror_mode": {
    "name": "ipython",
    "version": 3
   },
   "file_extension": ".py",
   "mimetype": "text/x-python",
   "name": "python",
   "nbconvert_exporter": "python",
   "pygments_lexer": "ipython3",
   "version": "3.9.7"
  }
 },
 "nbformat": 4,
 "nbformat_minor": 5
}
